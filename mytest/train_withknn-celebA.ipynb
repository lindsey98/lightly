{
 "cells": [
  {
   "cell_type": "code",
   "execution_count": 1,
   "id": "9b1a3112",
   "metadata": {},
   "outputs": [
    {
     "name": "stdout",
     "output_type": "stream",
     "text": [
      "Mon Jun 28 15:48:51 2021       \n",
      "+-----------------------------------------------------------------------------+\n",
      "| NVIDIA-SMI 460.80       Driver Version: 460.80       CUDA Version: 11.2     |\n",
      "|-------------------------------+----------------------+----------------------+\n",
      "| GPU  Name        Persistence-M| Bus-Id        Disp.A | Volatile Uncorr. ECC |\n",
      "| Fan  Temp  Perf  Pwr:Usage/Cap|         Memory-Usage | GPU-Util  Compute M. |\n",
      "|                               |                      |               MIG M. |\n",
      "|===============================+======================+======================|\n",
      "|   0  TITAN V             Off  | 00000000:3B:00.0 Off |                  N/A |\n",
      "| 28%   41C    P2    43W / 250W |   4515MiB / 12066MiB |     79%      Default |\n",
      "|                               |                      |                  N/A |\n",
      "+-------------------------------+----------------------+----------------------+\n",
      "|   1  TITAN V             Off  | 00000000:5E:00.0 Off |                  N/A |\n",
      "| 29%   42C    P2    43W / 250W |   4515MiB / 12066MiB |     16%      Default |\n",
      "|                               |                      |                  N/A |\n",
      "+-------------------------------+----------------------+----------------------+\n",
      "                                                                               \n",
      "+-----------------------------------------------------------------------------+\n",
      "| Processes:                                                                  |\n",
      "|  GPU   GI   CI        PID   Type   Process name                  GPU Memory |\n",
      "|        ID   ID                                                   Usage      |\n",
      "|=============================================================================|\n",
      "|    0   N/A  N/A   3384610      C   python                           4507MiB |\n",
      "|    1   N/A  N/A   3384270      C   python                           4507MiB |\n",
      "+-----------------------------------------------------------------------------+\n"
     ]
    }
   ],
   "source": [
    "gpu_info = !nvidia-smi\n",
    "gpu_info = '\\n'.join(gpu_info)\n",
    "print(gpu_info)\n",
    "\n",
    "from datetime import datetime\n",
    "from functools import partial\n",
    "from PIL import Image\n",
    "from torch.utils.data import DataLoader\n",
    "from torchvision import transforms\n",
    "from torchvision.datasets import CIFAR10\n",
    "from torchvision.models import resnet\n",
    "from tqdm import tqdm\n",
    "import argparse\n",
    "import json\n",
    "import math\n",
    "import os\n",
    "import pandas as pd\n",
    "import torch\n",
    "import torch.nn as nn\n",
    "import torch.nn.functional as F\n",
    "import torchvision\n",
    "import lightly.models as models\n",
    "import lightly.loss as loss\n",
    "\n",
    "os.environ[\"CUDA_VISIBLE_DEVICES\"]=\"0,1\""
   ]
  },
  {
   "cell_type": "markdown",
   "id": "c082687a",
   "metadata": {},
   "source": [
    "## Create dataloader, model"
   ]
  },
  {
   "cell_type": "code",
   "execution_count": 6,
   "id": "2732bb18",
   "metadata": {},
   "outputs": [
    {
     "name": "stdout",
     "output_type": "stream",
     "text": [
      "Namespace(arch='resnet18', batch_size=256, bn_splits=8, cos=True, epochs=800, knn_k=1, knn_t=0.1, lr=0.06, results_dir='../output/CelebA-NNCLR-2021-06-28-15-49-22-moco', resume='', schedule=[], symmetric=False, wd=0.0005)\n"
     ]
    }
   ],
   "source": [
    "parser = argparse.ArgumentParser(description='Train NNCLR on CelebA targetlist')\n",
    "\n",
    "parser.add_argument('-a', '--arch', default='resnet18')\n",
    "\n",
    "# lr: 0.06 for batch 512 (or 0.03 for batch 256)\n",
    "parser.add_argument('--lr', '--learning-rate', default=0.06, type=float, metavar='LR', help='initial learning rate', dest='lr')\n",
    "parser.add_argument('--epochs', default=800, type=int, metavar='N', help='number of total epochs to run')\n",
    "parser.add_argument('--schedule', default=[300, 600], nargs='*', type=int, help='learning rate schedule (when to drop lr by 10x); does not take effect if --cos is on')\n",
    "parser.add_argument('--cos', action='store_true', help='use cosine lr schedule')\n",
    "\n",
    "parser.add_argument('--batch-size', default=256, type=int, metavar='N', help='mini-batch size')\n",
    "parser.add_argument('--wd', default=5e-4, type=float, metavar='W', help='weight decay')\n",
    "\n",
    "parser.add_argument('--bn-splits', default=8, type=int, help='simulate multi-gpu behavior of BatchNorm in one gpu; 1 is SyncBatchNorm in multi-gpu')\n",
    "\n",
    "parser.add_argument('--symmetric', action='store_true', help='use a symmetric loss function that backprops to both crops')\n",
    "\n",
    "# knn monitor\n",
    "parser.add_argument('--knn-k', default=1, type=int, help='k in kNN monitor')\n",
    "parser.add_argument('--knn-t', default=0.1, type=float, help='softmax temperature in kNN monitor; could be different with moco-t')\n",
    "\n",
    "# utils\n",
    "parser.add_argument('--resume', default='', \n",
    "                    type=str, metavar='PATH', help='path to latest checkpoint (default: none)')\n",
    "parser.add_argument('--results-dir', default='', type=str, metavar='PATH', help='path to cache (default: none)')\n",
    "\n",
    "'''\n",
    "args = parser.parse_args()  # running in command line\n",
    "'''\n",
    "args = parser.parse_args('')  # running in ipynb\n",
    "\n",
    "# set command line arguments here when running in ipynb\n",
    "args.epochs = 800\n",
    "args.cos = True\n",
    "args.schedule = []  # cos in use\n",
    "args.symmetric = False\n",
    "if args.results_dir == '':\n",
    "    args.results_dir = '../output/CelebA-NNCLR-' + datetime.now().strftime(\"%Y-%m-%d-%H-%M-%S-moco\")\n",
    "\n",
    "print(args)"
   ]
  },
  {
   "cell_type": "code",
   "execution_count": 7,
   "id": "a7b55371",
   "metadata": {
    "code_folding": [
     7
    ]
   },
   "outputs": [],
   "source": [
    "import pickle\n",
    "from PIL import Image, ImageOps\n",
    "from typing import List, Union, Callable\n",
    "\n",
    "\n",
    "class CelebAPair(torchvision.datasets.CelebA):\n",
    "    \"\"\"CIFAR10 Dataset.\n",
    "    \"\"\"\n",
    "    def __getitem__(self, index):\n",
    "\n",
    "        img = Image.open(os.path.join(self.root, self.base_folder, \"img_align_celeba\", self.filename[index]))\n",
    "\n",
    "        if self.transform is not None:\n",
    "            im_1 = self.transform(img)\n",
    "            im_2 = self.transform(img)\n",
    "\n",
    "        return im_1, im_2\n",
    "\n",
    "    \n",
    "train_transform = transforms.Compose([\n",
    "    transforms.CenterCrop(128),\n",
    "    transforms.RandomApply([transforms.ColorJitter(0.4, 0.4, 0.4, 0.1)], p=0.8),\n",
    "    transforms.RandomGrayscale(p=0.2),\n",
    "    transforms.ToTensor(),\n",
    "    transforms.Normalize([0.5, 0.5, 0.5], [0.5, 0.5, 0.5])])\n",
    "\n",
    "test_transform = transforms.Compose([\n",
    "    transforms.CenterCrop(128),\n",
    "    transforms.ToTensor(),\n",
    "    transforms.Normalize([0.5, 0.5, 0.5], [0.5, 0.5, 0.5])])"
   ]
  },
  {
   "cell_type": "code",
   "execution_count": 8,
   "id": "be1c77dc",
   "metadata": {},
   "outputs": [],
   "source": [
    "# data prepare\n",
    "train_data = CelebAPair(root = '.', \n",
    "                        split = 'train', \n",
    "                        target_type = 'identity', \n",
    "                        transform = train_transform, \n",
    "                        target_transform = None, \n",
    "                        download=False)\n",
    "\n",
    "train_loader = DataLoader(train_data, batch_size=args.batch_size, shuffle=True, \n",
    "                          num_workers=16, pin_memory=True, drop_last=True)"
   ]
  },
  {
   "cell_type": "code",
   "execution_count": 9,
   "id": "6556196f",
   "metadata": {
    "scrolled": true
   },
   "outputs": [],
   "source": [
    "memory_data = torchvision.datasets.CelebA(root = '.', \n",
    "                            split = 'train', \n",
    "                            target_type = 'identity', \n",
    "                            transform = test_transform, \n",
    "                            target_transform = None, \n",
    "                            download=False) \n",
    "\n",
    "memory_loader = DataLoader(memory_data, batch_size=args.batch_size, \n",
    "                           shuffle=False, num_workers=16, pin_memory=True)"
   ]
  },
  {
   "cell_type": "code",
   "execution_count": 10,
   "id": "824aae03",
   "metadata": {},
   "outputs": [],
   "source": [
    "test_data = torchvision.datasets.CelebA(root = '.', \n",
    "                            split = 'valid', \n",
    "                            target_type = 'identity', \n",
    "                            transform = test_transform, \n",
    "                            target_transform = None, \n",
    "                            download=False) \n",
    "\n",
    "test_loader = DataLoader(test_data, batch_size=args.batch_size, \n",
    "                         shuffle=False, num_workers=16, pin_memory=True)"
   ]
  },
  {
   "cell_type": "code",
   "execution_count": 11,
   "id": "4e6ba6c0",
   "metadata": {},
   "outputs": [],
   "source": [
    "# add labeldict because identity is not continuous\n",
    "labeldict = {x:i for i, x in enumerate(set(memory_data.identity[:, 0].numpy()).union(set(test_data.identity[:, 0].numpy())))}"
   ]
  },
  {
   "cell_type": "code",
   "execution_count": 12,
   "id": "63959d2f",
   "metadata": {},
   "outputs": [
    {
     "data": {
      "text/plain": [
       "9177"
      ]
     },
     "execution_count": 12,
     "metadata": {},
     "output_type": "execute_result"
    }
   ],
   "source": [
    "len(labeldict.values())"
   ]
  },
  {
   "cell_type": "markdown",
   "id": "5338ac69",
   "metadata": {},
   "source": [
    "## Model"
   ]
  },
  {
   "cell_type": "markdown",
   "id": "a61dbdb6",
   "metadata": {},
   "source": [
    "- For other Siamese SOTA"
   ]
  },
  {
   "cell_type": "code",
   "execution_count": 13,
   "id": "f7ff12a3",
   "metadata": {},
   "outputs": [],
   "source": [
    "# use a resnet50 backbone\n",
    "# resnet = torchvision.models.resnet.resnet18()\n",
    "# resnet = torch.nn.Sequential(*list(resnet.children())[:-1])\n",
    "\n",
    "# # build the simsiam model\n",
    "# model = models.SimCLR(resnet, num_ftrs=512)\n",
    "# model = model.cuda()\n",
    "\n",
    "# # use a criterion for self-supervised learning\n",
    "# criterion = loss.NTXentLoss(temperature=0.5)"
   ]
  },
  {
   "cell_type": "markdown",
   "id": "2de8843f",
   "metadata": {},
   "source": [
    "- For NNCLR"
   ]
  },
  {
   "cell_type": "code",
   "execution_count": 20,
   "id": "68c7312a",
   "metadata": {},
   "outputs": [],
   "source": [
    "import torchvision\n",
    "import torch.nn as nn\n",
    "from lightly.models import NNCLR\n",
    "from lightly.loss import NTXentLoss\n",
    "from lightly.models.modules import NNMemoryBankModule\n",
    "\n",
    "resnet = torchvision.models.resnet18()\n",
    "backbone = nn.Sequential(\n",
    "    *list(resnet.children())[:-1],\n",
    "    nn.AdaptiveAvgPool2d(1),\n",
    ")\n",
    "\n",
    "# NNCLR\n",
    "model = NNCLR(backbone)\n",
    "model = torch.nn.DataParallel(model)\n",
    "model = model.cuda()\n",
    "criterion = NTXentLoss()\n",
    "\n",
    "nn_replacer = NNMemoryBankModule(size=2 ** 16)"
   ]
  },
  {
   "cell_type": "code",
   "execution_count": 15,
   "id": "cb53fb11",
   "metadata": {},
   "outputs": [],
   "source": [
    "# train for one epoch\n",
    "\n",
    "######################### For other models ##########################\n",
    "# def train(net, data_loader, train_optimizer, epoch, args):\n",
    "#     net.train()\n",
    "#     adjust_learning_rate(optimizer, epoch, args)\n",
    "\n",
    "#     total_loss, total_num, train_bar = 0.0, 0, tqdm(data_loader)\n",
    "#     for im_1, im_2 in train_bar:\n",
    "#         im_1, im_2 = im_1.cuda(non_blocking=True), im_2.cuda(non_blocking=True)\n",
    "\n",
    "#         y0, y1 = net(im_1, im_2)\n",
    "#         # backpropagation\n",
    "#         loss = criterion(y0, y1)\n",
    "        \n",
    "#         train_optimizer.zero_grad()\n",
    "#         loss.backward()\n",
    "#         train_optimizer.step()\n",
    "\n",
    "#         total_num += data_loader.batch_size\n",
    "#         total_loss += loss.item() * data_loader.batch_size\n",
    "#         train_bar.set_description('Train Epoch: [{}/{}], lr: {:.6f}, Loss: {:.4f}'.format(epoch, args.epochs, optimizer.param_groups[0]['lr'], total_loss / total_num))\n",
    "\n",
    "#     return total_loss / total_num\n",
    "##############################################################################\n",
    "\n",
    "######################### For NNCLR ##########################\n",
    "def train(net, data_loader, train_optimizer, epoch, args):\n",
    "    net.train()\n",
    "    adjust_learning_rate(optimizer, epoch, args)\n",
    "\n",
    "    total_loss, total_num, train_bar = 0.0, 0, tqdm(data_loader)\n",
    "    for im_1, im_2 in train_bar:\n",
    "        im_1, im_2 = im_1.cuda(non_blocking=True), im_2.cuda(non_blocking=True)\n",
    "\n",
    "        # forward pass\n",
    "        (z0, p0), (z1, p1) = model(im_1, im_2)\n",
    "        z0 = nn_replacer(z0.detach(), update=False)\n",
    "        z1 = nn_replacer(z1.detach(), update=True)\n",
    "        loss = 0.5 * (criterion(z0, p1) + criterion(z1, p0))\n",
    "        \n",
    "        train_optimizer.zero_grad()\n",
    "        loss.backward()\n",
    "        train_optimizer.step()\n",
    "\n",
    "        total_num += data_loader.batch_size\n",
    "        total_loss += loss.item() * data_loader.batch_size\n",
    "        train_bar.set_description('Train Epoch: [{}/{}], lr: {:.6f}, Loss: {:.4f}'.format(epoch, args.epochs, optimizer.param_groups[0]['lr'], total_loss / total_num))\n",
    "\n",
    "    return total_loss / total_num\n",
    "##############################################################################\n",
    "\n",
    "# lr scheduler for training\n",
    "def adjust_learning_rate(optimizer, epoch, args):\n",
    "    \"\"\"Decay the learning rate based on schedule\"\"\"\n",
    "    lr = args.lr\n",
    "    if args.cos:  # cosine lr schedule\n",
    "        lr *= 0.5 * (1. + math.cos(math.pi * epoch / args.epochs))\n",
    "    else:  # stepwise lr schedule\n",
    "        for milestone in args.schedule:\n",
    "            lr *= 0.1 if epoch >= milestone else 1.\n",
    "    for param_group in optimizer.param_groups:\n",
    "        param_group['lr'] = lr"
   ]
  },
  {
   "cell_type": "code",
   "execution_count": 16,
   "id": "3085a824",
   "metadata": {
    "scrolled": true
   },
   "outputs": [],
   "source": [
    "# test using a knn monitor\n",
    "def test(net, memory_data_loader, test_data_loader, epoch, args):\n",
    "    net.eval()\n",
    "    classes = len(labeldict.keys())\n",
    "    print('Number of classes {}'.format(classes))\n",
    "    \n",
    "    total_top1, total_top5, total_num, feature_bank = 0.0, 0.0, 0, []\n",
    "    with torch.no_grad():\n",
    "        # generate feature bank\n",
    "        for data, target in tqdm(memory_data_loader, desc='Feature extracting'):\n",
    "            feature = net(data.cuda(non_blocking=True)).squeeze().detach().cpu()\n",
    "            feature = F.normalize(feature, dim=1)\n",
    "            feature_bank.append(feature)\n",
    "            \n",
    "        # [D, N]\n",
    "        feature_bank = torch.cat(feature_bank, dim=0).t().contiguous()\n",
    "        # [N]\n",
    "        feature_labels = torch.tensor([labeldict[x] for x in memory_data_loader.dataset.identity[:, 0].numpy()], \n",
    "                                      device=feature_bank.device)\n",
    "#         print(feature_labels.shape)\n",
    "        \n",
    "        # loop test data to predict the label by weighted knn search\n",
    "        test_bar = tqdm(test_data_loader)\n",
    "        for data, target in test_bar:\n",
    "            target = torch.tensor([labeldict[x] for x in target.numpy()], device=feature_labels.device)\n",
    "            data = data.cuda(non_blocking=True)\n",
    "            feature = net(data).squeeze().detach().cpu()\n",
    "            feature = F.normalize(feature, dim=1)\n",
    "            \n",
    "            pred_labels = knn_predict(feature, feature_bank, feature_labels, classes, args.knn_k, args.knn_t)\n",
    "\n",
    "            total_num += data.size(0)\n",
    "            total_top1 += (pred_labels[:, 0] == target).float().sum().item()\n",
    "            test_bar.set_description('Test Epoch: [{}/{}] Acc@1:{:.2f}%'.format(epoch, args.epochs, total_top1 / total_num * 100))\n",
    "\n",
    "    return total_top1 / total_num * 100\n",
    "\n",
    "# knn monitor as in InstDisc https://arxiv.org/abs/1805.01978\n",
    "# implementation follows http://github.com/zhirongw/lemniscate.pytorch and https://github.com/leftthomas/SimCLR\n",
    "def knn_predict(feature, feature_bank, feature_labels, classes, knn_k, knn_t):\n",
    "    # compute cos similarity between each feature vector and feature bank ---> [B, N]\n",
    "    sim_matrix = torch.mm(feature, feature_bank)\n",
    "    # [B, K]\n",
    "    sim_weight, sim_indices = sim_matrix.topk(k=knn_k, dim=-1)\n",
    "    # [B, K]\n",
    "    sim_labels = torch.gather(feature_labels.expand(feature.size(0), -1), dim=-1, index=sim_indices)\n",
    "    sim_weight = (sim_weight / knn_t).exp()\n",
    "\n",
    "    # counts for each class\n",
    "    one_hot_label = torch.zeros(feature.size(0) * knn_k, classes, device=sim_labels.device)\n",
    "    # [B*K, C]\n",
    "    one_hot_label = one_hot_label.scatter(dim=-1, index=sim_labels.view(-1, 1), value=1.0)\n",
    "    # weighted score ---> [B, C]\n",
    "    pred_scores = torch.sum(one_hot_label.view(feature.size(0), -1, classes) * sim_weight.unsqueeze(dim=-1), dim=1)\n",
    "\n",
    "    pred_labels = pred_scores.argsort(dim=-1, descending=True)\n",
    "    return pred_labels"
   ]
  },
  {
   "cell_type": "code",
   "execution_count": 17,
   "id": "376dbc10",
   "metadata": {},
   "outputs": [],
   "source": [
    "# define optimizer\n",
    "optimizer = torch.optim.SGD(model.parameters(), lr=args.lr, weight_decay=args.wd, momentum=0.9)\n",
    "\n",
    "# load model if resume\n",
    "epoch_start = 1\n",
    "if args.resume is not '':\n",
    "    checkpoint = torch.load(args.resume)\n",
    "    model.load_state_dict(checkpoint['state_dict'])\n",
    "    optimizer.load_state_dict(checkpoint['optimizer'])\n",
    "    epoch_start = checkpoint['epoch'] + 1\n",
    "    print('Loaded from: {}'.format(args.resume))"
   ]
  },
  {
   "cell_type": "code",
   "execution_count": 18,
   "id": "2c37c564",
   "metadata": {},
   "outputs": [],
   "source": [
    "# logging\n",
    "results = {'train_loss': [], 'test_acc@1': []}\n",
    "if not os.path.exists(args.results_dir):\n",
    "    os.mkdir(args.results_dir)\n",
    "    \n",
    "# dump args\n",
    "with open(args.results_dir + '/args.json', 'w') as fid:\n",
    "    json.dump(args.__dict__, fid, indent=2)\n"
   ]
  },
  {
   "cell_type": "code",
   "execution_count": null,
   "id": "80c15ebf",
   "metadata": {
    "scrolled": true
   },
   "outputs": [
    {
     "name": "stderr",
     "output_type": "stream",
     "text": [
      "\r",
      "Feature extracting:   0%|          | 0/636 [00:00<?, ?it/s]"
     ]
    },
    {
     "name": "stdout",
     "output_type": "stream",
     "text": [
      "Number of classes 9177\n"
     ]
    },
    {
     "name": "stderr",
     "output_type": "stream",
     "text": [
      "Feature extracting: 100%|██████████| 636/636 [01:06<00:00,  9.63it/s]\n",
      "Test Epoch: [1/800] Acc@1:0.00%: 100%|██████████| 78/78 [01:57<00:00,  1.50s/it]\n",
      "Train Epoch: [1/800], lr: 0.060000, Loss: 6.4864: 100%|██████████| 635/635 [04:35<00:00,  2.31it/s]\n",
      "Feature extracting:   0%|          | 0/636 [00:00<?, ?it/s]"
     ]
    },
    {
     "name": "stdout",
     "output_type": "stream",
     "text": [
      "Number of classes 9177\n"
     ]
    },
    {
     "name": "stderr",
     "output_type": "stream",
     "text": [
      "Feature extracting: 100%|██████████| 636/636 [01:07<00:00,  9.48it/s]\n",
      "Test Epoch: [1/800] Acc@1:0.00%: 100%|██████████| 78/78 [02:01<00:00,  1.55s/it]\n",
      "Feature extracting:   0%|          | 0/636 [00:00<?, ?it/s]"
     ]
    },
    {
     "name": "stdout",
     "output_type": "stream",
     "text": [
      "Number of classes 9177\n"
     ]
    },
    {
     "name": "stderr",
     "output_type": "stream",
     "text": [
      "Feature extracting: 100%|██████████| 636/636 [01:17<00:00,  8.17it/s]\n",
      "Test Epoch: [2/800] Acc@1:0.00%: 100%|██████████| 78/78 [02:13<00:00,  1.71s/it]\n",
      "Train Epoch: [2/800], lr: 0.059999, Loss: 6.4857: 100%|██████████| 635/635 [04:15<00:00,  2.49it/s]\n",
      "Feature extracting:   0%|          | 0/636 [00:00<?, ?it/s]"
     ]
    },
    {
     "name": "stdout",
     "output_type": "stream",
     "text": [
      "Number of classes 9177\n"
     ]
    },
    {
     "name": "stderr",
     "output_type": "stream",
     "text": [
      "Feature extracting: 100%|██████████| 636/636 [01:10<00:00,  9.05it/s]\n",
      "Test Epoch: [2/800] Acc@1:0.00%: 100%|██████████| 78/78 [02:09<00:00,  1.65s/it]\n",
      "Feature extracting:   0%|          | 0/636 [00:00<?, ?it/s]"
     ]
    },
    {
     "name": "stdout",
     "output_type": "stream",
     "text": [
      "Number of classes 9177\n"
     ]
    },
    {
     "name": "stderr",
     "output_type": "stream",
     "text": [
      "Feature extracting: 100%|██████████| 636/636 [01:17<00:00,  8.25it/s]\n",
      "Test Epoch: [3/800] Acc@1:0.00%: 100%|██████████| 78/78 [02:14<00:00,  1.73s/it]\n",
      "Train Epoch: [3/800], lr: 0.059998, Loss: 6.4862: 100%|██████████| 635/635 [04:26<00:00,  2.38it/s]\n",
      "Feature extracting:   0%|          | 0/636 [00:00<?, ?it/s]"
     ]
    },
    {
     "name": "stdout",
     "output_type": "stream",
     "text": [
      "Number of classes 9177\n"
     ]
    },
    {
     "name": "stderr",
     "output_type": "stream",
     "text": [
      "Feature extracting: 100%|██████████| 636/636 [01:07<00:00,  9.46it/s]\n",
      "Test Epoch: [3/800] Acc@1:0.00%: 100%|██████████| 78/78 [02:06<00:00,  1.62s/it]\n",
      "Feature extracting:   0%|          | 0/636 [00:00<?, ?it/s]"
     ]
    },
    {
     "name": "stdout",
     "output_type": "stream",
     "text": [
      "Number of classes 9177\n"
     ]
    },
    {
     "name": "stderr",
     "output_type": "stream",
     "text": [
      "Feature extracting: 100%|██████████| 636/636 [01:05<00:00,  9.76it/s]\n",
      "Test Epoch: [4/800] Acc@1:0.00%: 100%|██████████| 78/78 [02:10<00:00,  1.67s/it]\n",
      "Train Epoch: [4/800], lr: 0.059996, Loss: 6.4858: 100%|██████████| 635/635 [04:31<00:00,  2.34it/s]\n",
      "Feature extracting:   0%|          | 0/636 [00:00<?, ?it/s]"
     ]
    },
    {
     "name": "stdout",
     "output_type": "stream",
     "text": [
      "Number of classes 9177\n"
     ]
    },
    {
     "name": "stderr",
     "output_type": "stream",
     "text": [
      "Feature extracting: 100%|██████████| 636/636 [01:09<00:00,  9.16it/s]\n",
      "Test Epoch: [4/800] Acc@1:0.00%: 100%|██████████| 78/78 [02:12<00:00,  1.70s/it]\n",
      "Feature extracting:   0%|          | 0/636 [00:00<?, ?it/s]"
     ]
    },
    {
     "name": "stdout",
     "output_type": "stream",
     "text": [
      "Number of classes 9177\n"
     ]
    },
    {
     "name": "stderr",
     "output_type": "stream",
     "text": [
      "Feature extracting: 100%|██████████| 636/636 [01:12<00:00,  8.82it/s]\n",
      "Test Epoch: [5/800] Acc@1:0.00%: 100%|██████████| 78/78 [02:16<00:00,  1.76s/it]\n",
      "Train Epoch: [5/800], lr: 0.059994, Loss: 6.4859: 100%|██████████| 635/635 [04:08<00:00,  2.55it/s]\n",
      "Feature extracting:   0%|          | 0/636 [00:00<?, ?it/s]"
     ]
    },
    {
     "name": "stdout",
     "output_type": "stream",
     "text": [
      "Number of classes 9177\n"
     ]
    },
    {
     "name": "stderr",
     "output_type": "stream",
     "text": [
      "Feature extracting: 100%|██████████| 636/636 [01:18<00:00,  8.09it/s]\n",
      "Test Epoch: [5/800] Acc@1:0.00%: 100%|██████████| 78/78 [02:01<00:00,  1.56s/it]\n",
      "Feature extracting:   0%|          | 0/636 [00:00<?, ?it/s]"
     ]
    },
    {
     "name": "stdout",
     "output_type": "stream",
     "text": [
      "Number of classes 9177\n"
     ]
    },
    {
     "name": "stderr",
     "output_type": "stream",
     "text": [
      "Feature extracting: 100%|██████████| 636/636 [01:05<00:00,  9.72it/s]\n",
      "Test Epoch: [6/800] Acc@1:0.00%: 100%|██████████| 78/78 [02:11<00:00,  1.69s/it]\n",
      "Train Epoch: [6/800], lr: 0.059992, Loss: 6.4859: 100%|██████████| 635/635 [04:11<00:00,  2.53it/s]\n",
      "Feature extracting:   0%|          | 0/636 [00:00<?, ?it/s]"
     ]
    },
    {
     "name": "stdout",
     "output_type": "stream",
     "text": [
      "Number of classes 9177\n"
     ]
    },
    {
     "name": "stderr",
     "output_type": "stream",
     "text": [
      "Feature extracting: 100%|██████████| 636/636 [01:08<00:00,  9.22it/s]\n",
      "Test Epoch: [6/800] Acc@1:0.00%: 100%|██████████| 78/78 [02:15<00:00,  1.73s/it]\n",
      "Feature extracting:   0%|          | 0/636 [00:00<?, ?it/s]"
     ]
    },
    {
     "name": "stdout",
     "output_type": "stream",
     "text": [
      "Number of classes 9177\n"
     ]
    },
    {
     "name": "stderr",
     "output_type": "stream",
     "text": [
      "Feature extracting: 100%|██████████| 636/636 [01:11<00:00,  8.85it/s]\n",
      "Test Epoch: [7/800] Acc@1:0.00%: 100%|██████████| 78/78 [02:00<00:00,  1.54s/it]\n",
      "Train Epoch: [7/800], lr: 0.059989, Loss: 6.4858: 100%|██████████| 635/635 [04:24<00:00,  2.40it/s]\n",
      "Feature extracting:   0%|          | 0/636 [00:00<?, ?it/s]"
     ]
    },
    {
     "name": "stdout",
     "output_type": "stream",
     "text": [
      "Number of classes 9177\n"
     ]
    },
    {
     "name": "stderr",
     "output_type": "stream",
     "text": [
      "Feature extracting: 100%|██████████| 636/636 [01:15<00:00,  8.41it/s]\n",
      "Test Epoch: [7/800] Acc@1:0.00%: 100%|██████████| 78/78 [02:09<00:00,  1.67s/it]\n",
      "Feature extracting:   0%|          | 0/636 [00:00<?, ?it/s]"
     ]
    },
    {
     "name": "stdout",
     "output_type": "stream",
     "text": [
      "Number of classes 9177\n"
     ]
    },
    {
     "name": "stderr",
     "output_type": "stream",
     "text": [
      "Feature extracting: 100%|██████████| 636/636 [01:05<00:00,  9.75it/s]\n",
      "Test Epoch: [8/800] Acc@1:0.00%: 100%|██████████| 78/78 [02:10<00:00,  1.67s/it]\n",
      "Train Epoch: [8/800], lr: 0.059985, Loss: 6.4854: 100%|██████████| 635/635 [04:10<00:00,  2.53it/s]\n",
      "Feature extracting:   0%|          | 0/636 [00:00<?, ?it/s]"
     ]
    },
    {
     "name": "stdout",
     "output_type": "stream",
     "text": [
      "Number of classes 9177\n"
     ]
    },
    {
     "name": "stderr",
     "output_type": "stream",
     "text": [
      "Feature extracting: 100%|██████████| 636/636 [01:06<00:00,  9.52it/s]\n",
      "Test Epoch: [8/800] Acc@1:0.00%: 100%|██████████| 78/78 [02:07<00:00,  1.64s/it]\n",
      "Feature extracting:   0%|          | 0/636 [00:00<?, ?it/s]"
     ]
    },
    {
     "name": "stdout",
     "output_type": "stream",
     "text": [
      "Number of classes 9177\n"
     ]
    },
    {
     "name": "stderr",
     "output_type": "stream",
     "text": [
      "Feature extracting: 100%|██████████| 636/636 [01:07<00:00,  9.48it/s]\n",
      "Test Epoch: [9/800] Acc@1:0.00%: 100%|██████████| 78/78 [02:13<00:00,  1.71s/it]\n",
      "Train Epoch: [9/800], lr: 0.059981, Loss: 6.4856: 100%|██████████| 635/635 [04:08<00:00,  2.56it/s]\n",
      "Feature extracting:   0%|          | 0/636 [00:00<?, ?it/s]"
     ]
    },
    {
     "name": "stdout",
     "output_type": "stream",
     "text": [
      "Number of classes 9177\n"
     ]
    },
    {
     "name": "stderr",
     "output_type": "stream",
     "text": [
      "Feature extracting: 100%|██████████| 636/636 [01:10<00:00,  9.03it/s]\n",
      "Test Epoch: [9/800] Acc@1:0.00%: 100%|██████████| 78/78 [02:20<00:00,  1.80s/it]\n",
      "Feature extracting:   0%|          | 0/636 [00:00<?, ?it/s]"
     ]
    },
    {
     "name": "stdout",
     "output_type": "stream",
     "text": [
      "Number of classes 9177\n"
     ]
    },
    {
     "name": "stderr",
     "output_type": "stream",
     "text": [
      "Feature extracting: 100%|██████████| 636/636 [01:10<00:00,  9.06it/s]\n",
      "Test Epoch: [10/800] Acc@1:0.00%: 100%|██████████| 78/78 [02:06<00:00,  1.63s/it]\n",
      "Train Epoch: [10/800], lr: 0.059977, Loss: 6.4860: 100%|██████████| 635/635 [04:04<00:00,  2.60it/s]\n",
      "Feature extracting:   0%|          | 0/636 [00:00<?, ?it/s]"
     ]
    },
    {
     "name": "stdout",
     "output_type": "stream",
     "text": [
      "Number of classes 9177\n"
     ]
    },
    {
     "name": "stderr",
     "output_type": "stream",
     "text": [
      "Feature extracting: 100%|██████████| 636/636 [01:11<00:00,  8.91it/s]\n",
      "Test Epoch: [10/800] Acc@1:0.00%: 100%|██████████| 78/78 [02:12<00:00,  1.69s/it]\n",
      "Feature extracting:   0%|          | 0/636 [00:00<?, ?it/s]"
     ]
    },
    {
     "name": "stdout",
     "output_type": "stream",
     "text": [
      "Number of classes 9177\n"
     ]
    },
    {
     "name": "stderr",
     "output_type": "stream",
     "text": [
      "Feature extracting: 100%|██████████| 636/636 [01:06<00:00,  9.57it/s]\n",
      "Test Epoch: [11/800] Acc@1:0.00%: 100%|██████████| 78/78 [02:22<00:00,  1.83s/it]\n",
      "Train Epoch: [11/800], lr: 0.059972, Loss: 6.4858: 100%|██████████| 635/635 [04:05<00:00,  2.59it/s]\n",
      "Feature extracting:   0%|          | 0/636 [00:00<?, ?it/s]"
     ]
    },
    {
     "name": "stdout",
     "output_type": "stream",
     "text": [
      "Number of classes 9177\n"
     ]
    },
    {
     "name": "stderr",
     "output_type": "stream",
     "text": [
      "Feature extracting: 100%|██████████| 636/636 [01:15<00:00,  8.47it/s]\n",
      "Test Epoch: [11/800] Acc@1:0.00%: 100%|██████████| 78/78 [02:09<00:00,  1.66s/it]\n",
      "Feature extracting:   0%|          | 0/636 [00:00<?, ?it/s]"
     ]
    },
    {
     "name": "stdout",
     "output_type": "stream",
     "text": [
      "Number of classes 9177\n"
     ]
    },
    {
     "name": "stderr",
     "output_type": "stream",
     "text": [
      "Feature extracting: 100%|██████████| 636/636 [01:06<00:00,  9.62it/s]\n",
      "Test Epoch: [12/800] Acc@1:0.00%: 100%|██████████| 78/78 [02:06<00:00,  1.63s/it]\n",
      "Train Epoch: [12/800], lr: 0.059967, Loss: 6.4860: 100%|██████████| 635/635 [04:01<00:00,  2.63it/s]\n",
      "Feature extracting:   0%|          | 0/636 [00:00<?, ?it/s]"
     ]
    },
    {
     "name": "stdout",
     "output_type": "stream",
     "text": [
      "Number of classes 9177\n"
     ]
    },
    {
     "name": "stderr",
     "output_type": "stream",
     "text": [
      "Feature extracting: 100%|██████████| 636/636 [01:14<00:00,  8.49it/s]\n",
      "Test Epoch: [12/800] Acc@1:0.00%: 100%|██████████| 78/78 [02:16<00:00,  1.76s/it]\n",
      "Feature extracting:   0%|          | 0/636 [00:00<?, ?it/s]"
     ]
    },
    {
     "name": "stdout",
     "output_type": "stream",
     "text": [
      "Number of classes 9177\n"
     ]
    },
    {
     "name": "stderr",
     "output_type": "stream",
     "text": [
      "Feature extracting: 100%|██████████| 636/636 [01:15<00:00,  8.42it/s]\n",
      "Test Epoch: [13/800] Acc@1:0.00%: 100%|██████████| 78/78 [02:05<00:00,  1.61s/it]\n",
      "Train Epoch: [13/800], lr: 0.059961, Loss: 6.4860: 100%|██████████| 635/635 [04:10<00:00,  2.53it/s]\n",
      "Feature extracting:   0%|          | 0/636 [00:00<?, ?it/s]"
     ]
    },
    {
     "name": "stdout",
     "output_type": "stream",
     "text": [
      "Number of classes 9177\n"
     ]
    },
    {
     "name": "stderr",
     "output_type": "stream",
     "text": [
      "Feature extracting: 100%|██████████| 636/636 [01:05<00:00,  9.66it/s]\n",
      "Test Epoch: [13/800] Acc@1:0.00%: 100%|██████████| 78/78 [02:13<00:00,  1.71s/it]\n",
      "Feature extracting:   0%|          | 0/636 [00:00<?, ?it/s]"
     ]
    },
    {
     "name": "stdout",
     "output_type": "stream",
     "text": [
      "Number of classes 9177\n"
     ]
    },
    {
     "name": "stderr",
     "output_type": "stream",
     "text": [
      "Feature extracting: 100%|██████████| 636/636 [01:11<00:00,  8.93it/s]\n",
      "Test Epoch: [14/800] Acc@1:0.00%: 100%|██████████| 78/78 [02:17<00:00,  1.76s/it]\n",
      "Train Epoch: [14/800], lr: 0.059955, Loss: 6.4859:  70%|██████▉   | 444/635 [03:11<01:08,  2.77it/s]"
     ]
    }
   ],
   "source": [
    "# training loop\n",
    "for epoch in range(epoch_start, args.epochs + 1):\n",
    "    test_acc_1 = test(model.module.backbone, memory_loader, test_loader, epoch, args)\n",
    "    train_loss = train(model, train_loader, optimizer, epoch, args)\n",
    "    results['train_loss'].append(train_loss)\n",
    "    test_acc_1 = test(model.module.backbone, memory_loader, test_loader, epoch, args)\n",
    "    results['test_acc@1'].append(test_acc_1)\n",
    "    # save statistics\n",
    "    data_frame = pd.DataFrame(data=results, index=range(epoch_start, epoch + 1))\n",
    "    data_frame.to_csv(args.results_dir + '/log.csv', index_label='epoch')\n",
    "    # save model\n",
    "    torch.save({'epoch': epoch, 'state_dict': model.state_dict(), \n",
    "                'optimizer' : optimizer.state_dict(),}, args.results_dir + '/model_last.pth')"
   ]
  },
  {
   "cell_type": "code",
   "execution_count": null,
   "id": "0a4b1fc3",
   "metadata": {},
   "outputs": [],
   "source": []
  }
 ],
 "metadata": {
  "kernelspec": {
   "display_name": "Python 3",
   "language": "python",
   "name": "python3"
  },
  "language_info": {
   "codemirror_mode": {
    "name": "ipython",
    "version": 3
   },
   "file_extension": ".py",
   "mimetype": "text/x-python",
   "name": "python",
   "nbconvert_exporter": "python",
   "pygments_lexer": "ipython3",
   "version": "3.7.10"
  },
  "latex_envs": {
   "LaTeX_envs_menu_present": true,
   "autoclose": false,
   "autocomplete": true,
   "bibliofile": "biblio.bib",
   "cite_by": "apalike",
   "current_citInitial": 1,
   "eqLabelWithNumbers": true,
   "eqNumInitial": 1,
   "hotkeys": {
    "equation": "Ctrl-E",
    "itemize": "Ctrl-I"
   },
   "labels_anchors": false,
   "latex_user_defs": false,
   "report_style_numbering": false,
   "user_envs_cfg": false
  },
  "toc": {
   "base_numbering": 1,
   "nav_menu": {},
   "number_sections": true,
   "sideBar": true,
   "skip_h1_title": false,
   "title_cell": "Table of Contents",
   "title_sidebar": "Contents",
   "toc_cell": false,
   "toc_position": {},
   "toc_section_display": true,
   "toc_window_display": false
  },
  "varInspector": {
   "cols": {
    "lenName": 16,
    "lenType": 16,
    "lenVar": 40
   },
   "kernels_config": {
    "python": {
     "delete_cmd_postfix": "",
     "delete_cmd_prefix": "del ",
     "library": "var_list.py",
     "varRefreshCmd": "print(var_dic_list())"
    },
    "r": {
     "delete_cmd_postfix": ") ",
     "delete_cmd_prefix": "rm(",
     "library": "var_list.r",
     "varRefreshCmd": "cat(var_dic_list()) "
    }
   },
   "types_to_exclude": [
    "module",
    "function",
    "builtin_function_or_method",
    "instance",
    "_Feature"
   ],
   "window_display": false
  }
 },
 "nbformat": 4,
 "nbformat_minor": 5
}
